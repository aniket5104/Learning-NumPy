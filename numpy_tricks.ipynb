{
 "cells": [
  {
   "cell_type": "markdown",
   "id": "657525e9",
   "metadata": {},
   "source": [
    "# np.unique()\n",
    "\n",
    "- Returns unique values from an array given as parameter in np.unique()"
   ]
  },
  {
   "cell_type": "code",
   "execution_count": 1,
   "id": "9275e048",
   "metadata": {},
   "outputs": [
    {
     "data": {
      "text/plain": [
       "array([1, 2, 3, 4, 5, 6, 8])"
      ]
     },
     "execution_count": 1,
     "metadata": {},
     "output_type": "execute_result"
    }
   ],
   "source": [
    "import numpy as np\n",
    "a=np.array([1,2,1,1,2,3,3,3,4,5,5,6,6,8])\n",
    "np.unique(a)"
   ]
  },
  {
   "cell_type": "markdown",
   "id": "c5bbbd9b",
   "metadata": {},
   "source": [
    "# np.expand_dims()\n",
    "It is used to expand the dimensions of an array i.e. convert  a 1D array to a 2d array or a 2d array to a 3D array."
   ]
  },
  {
   "cell_type": "code",
   "execution_count": 4,
   "id": "6f66843f",
   "metadata": {},
   "outputs": [
    {
     "data": {
      "text/plain": [
       "(1, 14)"
      ]
     },
     "execution_count": 4,
     "metadata": {},
     "output_type": "execute_result"
    }
   ],
   "source": [
    "np.expand_dims(a,axis=0).shape"
   ]
  },
  {
   "cell_type": "code",
   "execution_count": 6,
   "id": "2a896863",
   "metadata": {},
   "outputs": [
    {
     "data": {
      "text/plain": [
       "(14, 1)"
      ]
     },
     "execution_count": 6,
     "metadata": {},
     "output_type": "execute_result"
    }
   ],
   "source": [
    "np.expand_dims(a,axis=1).shape"
   ]
  }
 ],
 "metadata": {
  "kernelspec": {
   "display_name": ".venv",
   "language": "python",
   "name": "python3"
  },
  "language_info": {
   "codemirror_mode": {
    "name": "ipython",
    "version": 3
   },
   "file_extension": ".py",
   "mimetype": "text/x-python",
   "name": "python",
   "nbconvert_exporter": "python",
   "pygments_lexer": "ipython3",
   "version": "3.12.2"
  }
 },
 "nbformat": 4,
 "nbformat_minor": 5
}
