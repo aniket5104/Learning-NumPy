{
 "cells": [
  {
   "cell_type": "markdown",
   "id": "657525e9",
   "metadata": {},
   "source": [
    "# np.unique()\n",
    "\n",
    "- Returns unique values from an array given as parameter in np.unique()"
   ]
  },
  {
   "cell_type": "code",
   "execution_count": 8,
   "id": "9275e048",
   "metadata": {},
   "outputs": [
    {
     "data": {
      "text/plain": [
       "array([1, 2, 3, 4, 5, 6, 8])"
      ]
     },
     "execution_count": 8,
     "metadata": {},
     "output_type": "execute_result"
    }
   ],
   "source": [
    "import numpy as np\n",
    "a=np.array([1,2,1,1,2,3,3,3,4,5,5,6,6,8])\n",
    "np.unique(a)"
   ]
  },
  {
   "cell_type": "markdown",
   "id": "f2e1ef4d",
   "metadata": {},
   "source": [
    "---"
   ]
  },
  {
   "cell_type": "markdown",
   "id": "c5bbbd9b",
   "metadata": {},
   "source": [
    "# np.expand_dims()\n",
    "It is used to expand the dimensions of an array i.e. convert  a 1D array to a 2d array or a 2d array to a 3D array."
   ]
  },
  {
   "cell_type": "code",
   "execution_count": 9,
   "id": "6f66843f",
   "metadata": {},
   "outputs": [
    {
     "data": {
      "text/plain": [
       "(1, 14)"
      ]
     },
     "execution_count": 9,
     "metadata": {},
     "output_type": "execute_result"
    }
   ],
   "source": [
    "np.expand_dims(a,axis=0).shape"
   ]
  },
  {
   "cell_type": "code",
   "execution_count": 10,
   "id": "2a896863",
   "metadata": {},
   "outputs": [
    {
     "data": {
      "text/plain": [
       "(14, 1)"
      ]
     },
     "execution_count": 10,
     "metadata": {},
     "output_type": "execute_result"
    }
   ],
   "source": [
    "np.expand_dims(a,axis=1).shape"
   ]
  },
  {
   "cell_type": "markdown",
   "id": "4bb40ce0",
   "metadata": {},
   "source": [
    "---"
   ]
  },
  {
   "cell_type": "markdown",
   "id": "56383c10",
   "metadata": {},
   "source": [
    "# np.where()\n",
    "- Purpose:\n",
    "Returns Indices **or** elements based on a condition\n",
    "\n",
    "- Syntax: \n",
    "np.where(condition, x,y)\n",
    "\n",
    "- Parameters:\n",
    "  - condition: Boolean condition.\n",
    "\n",
    "  - x, y (optional): Values to choose from.\n",
    "\n",
    "    - If provided → returns elements from x where condition is True, else from y.\n",
    "\n",
    "- Returns:\n",
    "  - If only condition is given → **tuple**\n",
    "   of indices.\n",
    "\n",
    "  - If x and y are given → **array** with selected values."
   ]
  },
  {
   "cell_type": "code",
   "execution_count": 12,
   "id": "d6e8ae49",
   "metadata": {},
   "outputs": [
    {
     "data": {
      "text/plain": [
       "(array([2, 3]),)"
      ]
     },
     "execution_count": 12,
     "metadata": {},
     "output_type": "execute_result"
    }
   ],
   "source": [
    "# Get indices where contion is true\n",
    "a= np.array([10,20,30,40])\n",
    "np.where(a>25)"
   ]
  },
  {
   "cell_type": "code",
   "execution_count": 13,
   "id": "4f1a10ec",
   "metadata": {},
   "outputs": [
    {
     "data": {
      "text/plain": [
       "array([0, 0, 1, 1])"
      ]
     },
     "execution_count": 13,
     "metadata": {},
     "output_type": "execute_result"
    }
   ],
   "source": [
    "# Replace values conditionally\n",
    "np.where(a> 25,1,0)"
   ]
  },
  {
   "cell_type": "markdown",
   "id": "c873ee9e",
   "metadata": {},
   "source": [
    "---"
   ]
  },
  {
   "cell_type": "markdown",
   "id": "359f6653",
   "metadata": {},
   "source": [
    "# np.argmax() and np.argmin():\n",
    "- Returns **indices** of maximum and minimum element of the array respectfully in a particular axis."
   ]
  },
  {
   "cell_type": "code",
   "execution_count": 14,
   "id": "9949cec9",
   "metadata": {},
   "outputs": [
    {
     "data": {
      "text/plain": [
       "np.int64(3)"
      ]
     },
     "execution_count": 14,
     "metadata": {},
     "output_type": "execute_result"
    }
   ],
   "source": [
    "np.argmax(a)"
   ]
  },
  {
   "cell_type": "code",
   "execution_count": 15,
   "id": "4736c8ed",
   "metadata": {},
   "outputs": [
    {
     "data": {
      "text/plain": [
       "np.int64(0)"
      ]
     },
     "execution_count": 15,
     "metadata": {},
     "output_type": "execute_result"
    }
   ],
   "source": [
    "np.argmin(a)"
   ]
  },
  {
   "cell_type": "code",
   "execution_count": 29,
   "id": "db426281",
   "metadata": {},
   "outputs": [
    {
     "data": {
      "text/plain": [
       "array([[1, 2, 3],\n",
       "       [4, 5, 6],\n",
       "       [7, 8, 9]])"
      ]
     },
     "execution_count": 29,
     "metadata": {},
     "output_type": "execute_result"
    }
   ],
   "source": [
    "a=np.array([[1,2,3],[4,5,6],[7,8,9]])\n",
    "a"
   ]
  },
  {
   "cell_type": "code",
   "execution_count": 30,
   "id": "d5f3bc2d",
   "metadata": {},
   "outputs": [
    {
     "data": {
      "text/plain": [
       "array([2, 2, 2])"
      ]
     },
     "execution_count": 30,
     "metadata": {},
     "output_type": "execute_result"
    }
   ],
   "source": [
    "np.argmax(a,axis=0)"
   ]
  },
  {
   "cell_type": "code",
   "execution_count": 31,
   "id": "e2858dfc",
   "metadata": {},
   "outputs": [
    {
     "data": {
      "text/plain": [
       "array([0, 0, 0])"
      ]
     },
     "execution_count": 31,
     "metadata": {},
     "output_type": "execute_result"
    }
   ],
   "source": [
    "np.argmin(a,axis=1)"
   ]
  },
  {
   "cell_type": "markdown",
   "id": "a4a9aa4b",
   "metadata": {},
   "source": [
    "---"
   ]
  },
  {
   "cell_type": "markdown",
   "id": "e8bf3b71",
   "metadata": {},
   "source": [
    "# np.cumsum():\n",
    "Used to compute the cumulative sum of an array elements over a given axis."
   ]
  },
  {
   "cell_type": "code",
   "execution_count": 34,
   "id": "f5d1d17c",
   "metadata": {},
   "outputs": [
    {
     "data": {
      "text/plain": [
       "array([[69, 23, 91, 74, 78, 45, 87,  5, 20, 69, 56, 42, 19,  2, 47,  9,\n",
       "        55, 16, 92, 84, 59, 94, 34, 12, 71,  1, 71, 32, 21, 95, 77, 29,\n",
       "         7, 66, 94, 27, 21, 24, 64,  6, 24, 34, 60, 92, 17, 36, 20, 65,\n",
       "         8,  6]], dtype=int32)"
      ]
     },
     "execution_count": 34,
     "metadata": {},
     "output_type": "execute_result"
    }
   ],
   "source": [
    "a=np.random.randint(1,100,size=(1,50))\n",
    "a"
   ]
  },
  {
   "cell_type": "code",
   "execution_count": 35,
   "id": "d71b9a51",
   "metadata": {},
   "outputs": [
    {
     "data": {
      "text/plain": [
       "array([  69,   92,  183,  257,  335,  380,  467,  472,  492,  561,  617,\n",
       "        659,  678,  680,  727,  736,  791,  807,  899,  983, 1042, 1136,\n",
       "       1170, 1182, 1253, 1254, 1325, 1357, 1378, 1473, 1550, 1579, 1586,\n",
       "       1652, 1746, 1773, 1794, 1818, 1882, 1888, 1912, 1946, 2006, 2098,\n",
       "       2115, 2151, 2171, 2236, 2244, 2250])"
      ]
     },
     "execution_count": 35,
     "metadata": {},
     "output_type": "execute_result"
    }
   ],
   "source": [
    "np.cumsum(a)"
   ]
  },
  {
   "cell_type": "code",
   "execution_count": 40,
   "id": "b082c829",
   "metadata": {},
   "outputs": [
    {
     "data": {
      "text/plain": [
       "array([[35, 78, 81, 19, 74],\n",
       "       [48, 48, 47,  3, 72],\n",
       "       [95, 84, 62, 66, 14],\n",
       "       [67, 84, 21, 64, 59]], dtype=int32)"
      ]
     },
     "execution_count": 40,
     "metadata": {},
     "output_type": "execute_result"
    }
   ],
   "source": [
    "a=np.random.randint(1,100,size=(4,5))\n",
    "a"
   ]
  },
  {
   "cell_type": "code",
   "execution_count": 44,
   "id": "574b659d",
   "metadata": {},
   "outputs": [
    {
     "data": {
      "text/plain": [
       "array([[ 35, 113, 194, 213, 287],\n",
       "       [ 48,  96, 143, 146, 218],\n",
       "       [ 95, 179, 241, 307, 321],\n",
       "       [ 67, 151, 172, 236, 295]])"
      ]
     },
     "execution_count": 44,
     "metadata": {},
     "output_type": "execute_result"
    }
   ],
   "source": [
    "np.cumsum(a,axis=1)"
   ]
  },
  {
   "cell_type": "markdown",
   "id": "8dd9bbb6",
   "metadata": {},
   "source": [
    "---"
   ]
  },
  {
   "cell_type": "markdown",
   "id": "a2efd123",
   "metadata": {},
   "source": [
    "# np.cumprod():\n",
    "Used to find the cumulative product of an array along a given axis"
   ]
  },
  {
   "cell_type": "code",
   "execution_count": 45,
   "id": "65964661",
   "metadata": {},
   "outputs": [
    {
     "data": {
      "text/plain": [
       "array([[      35,       78,       81,       19,       74],\n",
       "       [    1680,     3744,     3807,       57,     5328],\n",
       "       [  159600,   314496,   236034,     3762,    74592],\n",
       "       [10693200, 26417664,  4956714,   240768,  4400928]])"
      ]
     },
     "execution_count": 45,
     "metadata": {},
     "output_type": "execute_result"
    }
   ],
   "source": [
    "np.cumprod(a,axis=0)"
   ]
  },
  {
   "cell_type": "code",
   "execution_count": 46,
   "id": "030ebbb1",
   "metadata": {},
   "outputs": [
    {
     "data": {
      "text/plain": [
       "array([[       35,      2730,    221130,   4201470, 310908780],\n",
       "       [       48,      2304,    108288,    324864,  23390208],\n",
       "       [       95,      7980,    494760,  32654160, 457158240],\n",
       "       [       67,      5628,    118188,   7564032, 446277888]])"
      ]
     },
     "execution_count": 46,
     "metadata": {},
     "output_type": "execute_result"
    }
   ],
   "source": [
    "np.cumprod(a,axis=1)"
   ]
  },
  {
   "cell_type": "markdown",
   "id": "bf521c4a",
   "metadata": {},
   "source": [
    "---"
   ]
  },
  {
   "cell_type": "markdown",
   "id": "53f2e59c",
   "metadata": {},
   "source": [
    "# np.percentile():\n",
    "Used to find the element of a given percentile along a given axis"
   ]
  },
  {
   "cell_type": "code",
   "execution_count": 51,
   "id": "9b520316",
   "metadata": {},
   "outputs": [
    {
     "data": {
      "text/plain": [
       "array([[35, 78, 81, 19, 74],\n",
       "       [48, 48, 47,  3, 72],\n",
       "       [95, 84, 62, 66, 14],\n",
       "       [67, 84, 21, 64, 59]], dtype=int32)"
      ]
     },
     "execution_count": 51,
     "metadata": {},
     "output_type": "execute_result"
    }
   ],
   "source": [
    "a"
   ]
  },
  {
   "cell_type": "code",
   "execution_count": null,
   "id": "5139ea94",
   "metadata": {},
   "outputs": [
    {
     "data": {
      "text/plain": [
       "np.float64(63.0)"
      ]
     },
     "execution_count": 54,
     "metadata": {},
     "output_type": "execute_result"
    }
   ],
   "source": [
    "np.percentile(a,50) "
   ]
  },
  {
   "cell_type": "code",
   "execution_count": 56,
   "id": "5522ed64",
   "metadata": {},
   "outputs": [
    {
     "data": {
      "text/plain": [
       "np.float64(63.0)"
      ]
     },
     "execution_count": 56,
     "metadata": {},
     "output_type": "execute_result"
    }
   ],
   "source": [
    "np.median(a) #returns the median = 50 percentile"
   ]
  },
  {
   "cell_type": "code",
   "execution_count": 53,
   "id": "2c533363",
   "metadata": {},
   "outputs": [
    {
     "data": {
      "text/plain": [
       "array([35., 48., 21.,  3., 14.])"
      ]
     },
     "execution_count": 53,
     "metadata": {},
     "output_type": "execute_result"
    }
   ],
   "source": [
    "np.percentile(a,0,axis=0)"
   ]
  },
  {
   "cell_type": "markdown",
   "id": "c99b38e3",
   "metadata": {},
   "source": [
    "---"
   ]
  },
  {
   "cell_type": "markdown",
   "id": "4578225e",
   "metadata": {},
   "source": [
    "# np.histogram():\n",
    "Computes the frequency distribution of data (like making a histogram).\n",
    "\n",
    "- Syntax:\n",
    "np.histogram(data, bins=10, range=None)\n",
    "\n",
    "- Parameters: \n",
    "  - bin: equal parts in which array is divided\n",
    "  - range: to divide only a range of array in given no. of bins rather than whole array"
   ]
  },
  {
   "cell_type": "code",
   "execution_count": 71,
   "id": "8a4944e8",
   "metadata": {},
   "outputs": [
    {
     "data": {
      "text/plain": [
       "array([[46, 73, 69, 61, 69, 97, 66, 92,  2, 58, 46,  7, 93, 80, 16, 11,\n",
       "        80, 66, 17,  6, 27,  4, 52, 71, 68]], dtype=int32)"
      ]
     },
     "execution_count": 71,
     "metadata": {},
     "output_type": "execute_result"
    }
   ],
   "source": [
    "a=np.random.randint(0,100,size=(1,25))\n",
    "a"
   ]
  },
  {
   "cell_type": "code",
   "execution_count": 75,
   "id": "06397f02",
   "metadata": {},
   "outputs": [
    {
     "data": {
      "text/plain": [
       "(array([ 1,  4, 10]), array([20., 40., 60., 80.]))"
      ]
     },
     "execution_count": 75,
     "metadata": {},
     "output_type": "execute_result"
    }
   ],
   "source": [
    "np.histogram(a,bins=3,range=(20,80))"
   ]
  },
  {
   "cell_type": "markdown",
   "id": "0f9811d1",
   "metadata": {},
   "source": [
    "---"
   ]
  },
  {
   "cell_type": "markdown",
   "id": "79a244dd",
   "metadata": {},
   "source": [
    "# np.corrcoef():\n",
    "Used to find the correralation coefficient of two given datas.\n",
    "\n",
    "- Syntax:\n",
    "np.corrcoef(x, y=None)\n",
    "\n",
    "- Parameters:\n",
    "  - x: Input array (1D or 2D)\n",
    "\n",
    "  - y: Optional second array (if not passed, only x is used)\n",
    "\n",
    "- Returns:\n",
    "  - A correlation matrix, where:\n",
    "\n",
    "  - Value 1.0 means perfect positive correlation\n",
    "\n",
    "  - Value -1.0 means perfect negative correlation\n",
    "\n",
    "  - Value 0.0 means no correlation"
   ]
  },
  {
   "cell_type": "code",
   "execution_count": 78,
   "id": "317e7034",
   "metadata": {},
   "outputs": [
    {
     "data": {
      "text/plain": [
       "array([[1.        , 0.88659264],\n",
       "       [0.88659264, 1.        ]])"
      ]
     },
     "execution_count": 78,
     "metadata": {},
     "output_type": "execute_result"
    }
   ],
   "source": [
    "salary = [10000,20000,30000,40000]\n",
    "exp = [2,2,3,6]\n",
    "np.corrcoef(salary,exp)"
   ]
  },
  {
   "cell_type": "markdown",
   "id": "d38cc18f",
   "metadata": {},
   "source": [
    "---"
   ]
  },
  {
   "cell_type": "markdown",
   "id": "5b03d044",
   "metadata": {},
   "source": [
    "# np.isin():\n",
    "Use to membership of multiple items in an array which are passed using a list.\n",
    "\n",
    "- Syntax: np.isin(a,items) #items is a list"
   ]
  },
  {
   "cell_type": "code",
   "execution_count": 84,
   "id": "fffe9fda",
   "metadata": {},
   "outputs": [
    {
     "data": {
      "text/plain": [
       "array([[46, 73, 69, 61, 69, 97, 66, 92,  2, 58, 46,  7, 93, 80, 16, 11,\n",
       "        80, 66, 17,  6, 27,  4, 52, 71, 68]], dtype=int32)"
      ]
     },
     "execution_count": 84,
     "metadata": {},
     "output_type": "execute_result"
    }
   ],
   "source": [
    "items=[73,92,69,48,51]\n",
    "a"
   ]
  },
  {
   "cell_type": "code",
   "execution_count": 86,
   "id": "f79ad2e8",
   "metadata": {},
   "outputs": [
    {
     "data": {
      "text/plain": [
       "array([[False,  True,  True, False,  True, False, False,  True, False,\n",
       "        False, False, False, False, False, False, False, False, False,\n",
       "        False, False, False, False, False, False, False]])"
      ]
     },
     "execution_count": 86,
     "metadata": {},
     "output_type": "execute_result"
    }
   ],
   "source": [
    "np.isin(a,items)"
   ]
  },
  {
   "cell_type": "markdown",
   "id": "4f09f0da",
   "metadata": {},
   "source": [
    "---"
   ]
  },
  {
   "cell_type": "markdown",
   "id": "b77d69e6",
   "metadata": {},
   "source": [
    "# np.flip()\n",
    "Reverses the order of array function along the specified axis, preserving the shape of the array."
   ]
  },
  {
   "cell_type": "code",
   "execution_count": 87,
   "id": "61a45f1d",
   "metadata": {},
   "outputs": [
    {
     "data": {
      "text/plain": [
       "array([[46, 73, 69, 61, 69, 97, 66, 92,  2, 58, 46,  7, 93, 80, 16, 11,\n",
       "        80, 66, 17,  6, 27,  4, 52, 71, 68]], dtype=int32)"
      ]
     },
     "execution_count": 87,
     "metadata": {},
     "output_type": "execute_result"
    }
   ],
   "source": [
    "a"
   ]
  },
  {
   "cell_type": "code",
   "execution_count": 89,
   "id": "3892de72",
   "metadata": {},
   "outputs": [
    {
     "data": {
      "text/plain": [
       "array([[68, 71, 52,  4, 27,  6, 17, 66, 80, 11, 16, 80, 93,  7, 46, 58,\n",
       "         2, 92, 66, 97, 69, 61, 69, 73, 46]], dtype=int32)"
      ]
     },
     "execution_count": 89,
     "metadata": {},
     "output_type": "execute_result"
    }
   ],
   "source": [
    "np.flip(a)"
   ]
  },
  {
   "cell_type": "code",
   "execution_count": 90,
   "id": "67a4881d",
   "metadata": {},
   "outputs": [
    {
     "data": {
      "text/plain": [
       "array([[95, 85, 59, 58, 35],\n",
       "       [71, 40, 90, 52, 86],\n",
       "       [66, 11, 85, 68, 75],\n",
       "       [53, 52,  2, 15, 64]], dtype=int32)"
      ]
     },
     "execution_count": 90,
     "metadata": {},
     "output_type": "execute_result"
    }
   ],
   "source": [
    "b=np.random.randint(1,100,size=(4,5))\n",
    "b"
   ]
  },
  {
   "cell_type": "code",
   "execution_count": 91,
   "id": "8b240678",
   "metadata": {},
   "outputs": [
    {
     "data": {
      "text/plain": [
       "array([[53, 52,  2, 15, 64],\n",
       "       [66, 11, 85, 68, 75],\n",
       "       [71, 40, 90, 52, 86],\n",
       "       [95, 85, 59, 58, 35]], dtype=int32)"
      ]
     },
     "execution_count": 91,
     "metadata": {},
     "output_type": "execute_result"
    }
   ],
   "source": [
    "np.flip(b, axis=0) #column wise flipping"
   ]
  },
  {
   "cell_type": "code",
   "execution_count": null,
   "id": "f3c52f5b",
   "metadata": {},
   "outputs": [
    {
     "data": {
      "text/plain": [
       "array([[35, 58, 59, 85, 95],\n",
       "       [86, 52, 90, 40, 71],\n",
       "       [75, 68, 85, 11, 66],\n",
       "       [64, 15,  2, 52, 53]], dtype=int32)"
      ]
     },
     "execution_count": 92,
     "metadata": {},
     "output_type": "execute_result"
    }
   ],
   "source": [
    "np.flip(b,axis=1) #row wise flipping\\"
   ]
  },
  {
   "cell_type": "markdown",
   "id": "e0977582",
   "metadata": {},
   "source": [
    "---"
   ]
  },
  {
   "cell_type": "markdown",
   "id": "6531622d",
   "metadata": {},
   "source": [
    "# np.put()\n",
    "Replaces specific elements of the array with given values at the specific indices. Indices work on flattened array."
   ]
  },
  {
   "cell_type": "code",
   "execution_count": 93,
   "id": "a9cee277",
   "metadata": {},
   "outputs": [
    {
     "data": {
      "text/plain": [
       "array([[46, 73, 69, 61, 69, 97, 66, 92,  2, 58, 46,  7, 93, 80, 16, 11,\n",
       "        80, 66, 17,  6, 27,  4, 52, 71, 68]], dtype=int32)"
      ]
     },
     "execution_count": 93,
     "metadata": {},
     "output_type": "execute_result"
    }
   ],
   "source": [
    "a"
   ]
  },
  {
   "cell_type": "code",
   "execution_count": 98,
   "id": "ecf678b4",
   "metadata": {},
   "outputs": [
    {
     "data": {
      "text/plain": [
       "array([[460, 730,  69,  61,  69,  97,  66,  92,   2,  58,  46,   7,  93,\n",
       "         80,  16,  11,  80,  66,  17,   6,  27,   4,  52,  71,  68]],\n",
       "      dtype=int32)"
      ]
     },
     "execution_count": 98,
     "metadata": {},
     "output_type": "execute_result"
    }
   ],
   "source": [
    "np.put(a,[0,1],[460,730]) #this will make change into he original array\n",
    "a"
   ]
  },
  {
   "cell_type": "markdown",
   "id": "26305528",
   "metadata": {},
   "source": [
    "---"
   ]
  },
  {
   "cell_type": "markdown",
   "id": "d08c3b50",
   "metadata": {},
   "source": [
    "# np.delete():\n",
    "Returns a new array with the deletion of sub-arrays along with the mentioned axis."
   ]
  },
  {
   "cell_type": "code",
   "execution_count": 99,
   "id": "2d8b67a3",
   "metadata": {},
   "outputs": [
    {
     "data": {
      "text/plain": [
       "array([[460, 730,  69,  61,  69,  97,  66,  92,   2,  58,  46,   7,  93,\n",
       "         80,  16,  11,  80,  66,  17,   6,  27,   4,  52,  71,  68]],\n",
       "      dtype=int32)"
      ]
     },
     "execution_count": 99,
     "metadata": {},
     "output_type": "execute_result"
    }
   ],
   "source": [
    "a"
   ]
  },
  {
   "cell_type": "code",
   "execution_count": 102,
   "id": "48bf4a8f",
   "metadata": {},
   "outputs": [
    {
     "data": {
      "text/plain": [
       "array([730,  69,  69,  97,  66,   2,  58,  46,   7,  93,  80,  16,  11,\n",
       "        80,  66,  17,   6,  27,   4,  52,  71,  68], dtype=int32)"
      ]
     },
     "execution_count": 102,
     "metadata": {},
     "output_type": "execute_result"
    }
   ],
   "source": [
    "np.delete(a,[0,3,7])"
   ]
  },
  {
   "cell_type": "markdown",
   "id": "183720a0",
   "metadata": {},
   "source": [
    "---"
   ]
  }
 ],
 "metadata": {
  "kernelspec": {
   "display_name": ".venv",
   "language": "python",
   "name": "python3"
  },
  "language_info": {
   "codemirror_mode": {
    "name": "ipython",
    "version": 3
   },
   "file_extension": ".py",
   "mimetype": "text/x-python",
   "name": "python",
   "nbconvert_exporter": "python",
   "pygments_lexer": "ipython3",
   "version": "3.12.2"
  }
 },
 "nbformat": 4,
 "nbformat_minor": 5
}
