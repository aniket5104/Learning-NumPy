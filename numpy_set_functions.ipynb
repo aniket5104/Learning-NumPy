{
 "cells": [
  {
   "cell_type": "markdown",
   "id": "0e01b4de",
   "metadata": {},
   "source": [
    "# Set Functions:"
   ]
  },
  {
   "cell_type": "code",
   "execution_count": 2,
   "id": "ed148b7b",
   "metadata": {},
   "outputs": [],
   "source": [
    "import numpy as np\n",
    "m=np.array([1,2,3,4,5])\n",
    "n=np.array([3,4,5,6,7])"
   ]
  },
  {
   "cell_type": "markdown",
   "id": "1d4eb76f",
   "metadata": {},
   "source": [
    "## np.union1d()"
   ]
  },
  {
   "cell_type": "code",
   "execution_count": 3,
   "id": "4a1f61b5",
   "metadata": {},
   "outputs": [
    {
     "data": {
      "text/plain": [
       "array([1, 2, 3, 4, 5, 6, 7])"
      ]
     },
     "execution_count": 3,
     "metadata": {},
     "output_type": "execute_result"
    }
   ],
   "source": [
    "np.union1d(m,n)"
   ]
  },
  {
   "cell_type": "markdown",
   "id": "a3d9e1f2",
   "metadata": {},
   "source": [
    "---"
   ]
  },
  {
   "cell_type": "markdown",
   "id": "eedb40b5",
   "metadata": {},
   "source": [
    "## np.intersect1d():"
   ]
  },
  {
   "cell_type": "code",
   "execution_count": null,
   "id": "6e6caf6c",
   "metadata": {},
   "outputs": [
    {
     "data": {
      "text/plain": [
       "array([3, 4, 5])"
      ]
     },
     "execution_count": 9,
     "metadata": {},
     "output_type": "execute_result"
    }
   ],
   "source": [
    "np.intersect1d(m,n)"
   ]
  },
  {
   "cell_type": "markdown",
   "id": "2d3824d7",
   "metadata": {},
   "source": [
    "---"
   ]
  },
  {
   "cell_type": "markdown",
   "id": "67de55b0",
   "metadata": {},
   "source": [
    "## np.setdiff1d():"
   ]
  },
  {
   "cell_type": "code",
   "execution_count": 7,
   "id": "f473bfbd",
   "metadata": {},
   "outputs": [
    {
     "data": {
      "text/plain": [
       "array([1, 2])"
      ]
     },
     "execution_count": 7,
     "metadata": {},
     "output_type": "execute_result"
    }
   ],
   "source": [
    "np.setdiff1d(m,n)"
   ]
  },
  {
   "cell_type": "code",
   "execution_count": 8,
   "id": "0c6bbf6d",
   "metadata": {},
   "outputs": [
    {
     "data": {
      "text/plain": [
       "array([6, 7])"
      ]
     },
     "execution_count": 8,
     "metadata": {},
     "output_type": "execute_result"
    }
   ],
   "source": [
    "np.setdiff1d(n,m)"
   ]
  },
  {
   "cell_type": "markdown",
   "id": "4d7bea89",
   "metadata": {},
   "source": [
    "---"
   ]
  },
  {
   "cell_type": "markdown",
   "id": "e4142e02",
   "metadata": {},
   "source": [
    "## np.setxor1d():\n",
    "- Delete duplicates and returns only unique elements from the combined arrays"
   ]
  },
  {
   "cell_type": "code",
   "execution_count": 10,
   "id": "e4ec8f18",
   "metadata": {},
   "outputs": [
    {
     "data": {
      "text/plain": [
       "array([1, 2, 6, 7])"
      ]
     },
     "execution_count": 10,
     "metadata": {},
     "output_type": "execute_result"
    }
   ],
   "source": [
    "np.setxor1d(m,n)"
   ]
  },
  {
   "cell_type": "markdown",
   "id": "e2273c6f",
   "metadata": {},
   "source": [
    "---"
   ]
  },
  {
   "cell_type": "markdown",
   "id": "7219333e",
   "metadata": {},
   "source": [
    "## np.in1d():\n",
    "- Similar to membership operator"
   ]
  },
  {
   "cell_type": "code",
   "execution_count": 13,
   "id": "d9e7b2ad",
   "metadata": {},
   "outputs": [
    {
     "name": "stderr",
     "output_type": "stream",
     "text": [
      "C:\\Users\\anike\\AppData\\Local\\Temp\\ipykernel_3796\\3930963099.py:1: DeprecationWarning: `in1d` is deprecated. Use `np.isin` instead.\n",
      "  np.in1d(m,1)\n"
     ]
    },
    {
     "data": {
      "text/plain": [
       "array([ True, False, False, False, False])"
      ]
     },
     "execution_count": 13,
     "metadata": {},
     "output_type": "execute_result"
    }
   ],
   "source": [
    "np.in1d(m,1)"
   ]
  }
 ],
 "metadata": {
  "kernelspec": {
   "display_name": ".venv",
   "language": "python",
   "name": "python3"
  },
  "language_info": {
   "codemirror_mode": {
    "name": "ipython",
    "version": 3
   },
   "file_extension": ".py",
   "mimetype": "text/x-python",
   "name": "python",
   "nbconvert_exporter": "python",
   "pygments_lexer": "ipython3",
   "version": "3.12.2"
  }
 },
 "nbformat": 4,
 "nbformat_minor": 5
}
