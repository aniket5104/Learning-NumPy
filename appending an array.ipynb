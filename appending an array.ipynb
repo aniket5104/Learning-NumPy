{
 "cells": [
  {
   "cell_type": "markdown",
   "id": "3c708b3c",
   "metadata": {
    "vscode": {
     "languageId": "plaintext"
    }
   },
   "source": [
    "#np.append() :\n",
    "\n",
    "**Purpose**:<br>\n",
    "Adds values to the end of an array, returns a new array.\n",
    "\n",
    "**Syntax**:<br>\n",
    "np.append(arr, values, axis=None)"
   ]
  },
  {
   "cell_type": "code",
   "execution_count": null,
   "id": "8bf6d185",
   "metadata": {},
   "outputs": [],
   "source": [
    "a = np.array([[1, 2], [3, 4]])\n",
    "np.append(a, [5, 6])\n",
    "# Output: array([1, 2, 3, 4, 5, 6])"
   ]
  }
 ],
 "metadata": {
  "kernelspec": {
   "display_name": ".venv",
   "language": "python",
   "name": "python3"
  },
  "language_info": {
   "name": "python",
   "version": "3.12.2"
  }
 },
 "nbformat": 4,
 "nbformat_minor": 5
}
