{
 "cells": [
  {
   "cell_type": "markdown",
   "id": "3c708b3c",
   "metadata": {
    "vscode": {
     "languageId": "plaintext"
    }
   },
   "source": [
    "# np.append() :\n",
    "\n",
    "**Purpose**:<br>\n",
    "Adds values to the end of an array, returns a new array.\n",
    "\n",
    "**Syntax**:<br>\n",
    "np.append(arr, values, axis=None)"
   ]
  },
  {
   "cell_type": "code",
   "execution_count": 7,
   "id": "8bf6d185",
   "metadata": {},
   "outputs": [
    {
     "data": {
      "text/plain": [
       "array([1, 2, 3, 4, 5, 6])"
      ]
     },
     "execution_count": 7,
     "metadata": {},
     "output_type": "execute_result"
    }
   ],
   "source": [
    "import numpy as np\n",
    "a = np.array([[1, 2], [3, 4]])\n",
    "np.append(a, [5, 6])\n",
    "# Output: array([1, 2, 3, 4, 5, 6])"
   ]
  },
  {
   "cell_type": "code",
   "execution_count": 8,
   "id": "c12de6b7",
   "metadata": {},
   "outputs": [
    {
     "data": {
      "text/plain": [
       "array([[1, 2],\n",
       "       [3, 4]])"
      ]
     },
     "execution_count": 8,
     "metadata": {},
     "output_type": "execute_result"
    }
   ],
   "source": [
    "a"
   ]
  },
  {
   "cell_type": "code",
   "execution_count": 9,
   "id": "1c146d7b",
   "metadata": {},
   "outputs": [
    {
     "data": {
      "text/plain": [
       "array([[1, 2],\n",
       "       [3, 4],\n",
       "       [5, 6]])"
      ]
     },
     "execution_count": 9,
     "metadata": {},
     "output_type": "execute_result"
    }
   ],
   "source": [
    "np.append(a,[[5,6]],axis=0) #row wise appending"
   ]
  },
  {
   "cell_type": "code",
   "execution_count": 10,
   "id": "6279d3f5",
   "metadata": {},
   "outputs": [
    {
     "data": {
      "text/plain": [
       "array([[1, 2, 5],\n",
       "       [3, 4, 6]])"
      ]
     },
     "execution_count": 10,
     "metadata": {},
     "output_type": "execute_result"
    }
   ],
   "source": [
    "np.append(a,[[5],[6]],axis=1) #column wise appending"
   ]
  },
  {
   "cell_type": "markdown",
   "id": "61eac4f8",
   "metadata": {},
   "source": [
    "## NOTE:<br>\n",
    "- Parameters:\n",
    "  - arr: Input array.\n",
    "\n",
    "  - values: Values to append.\n",
    "\n",
    "  - axis (optional):\n",
    "\n",
    "  - None (default) → flattens both arrays and appends.\n",
    "\n",
    "  - 0 or 1 → appends along rows or columns (requires matching shape).\n",
    "\n",
    "- Shapes must match when axis is specified."
   ]
  }
 ],
 "metadata": {
  "kernelspec": {
   "display_name": ".venv",
   "language": "python",
   "name": "python3"
  },
  "language_info": {
   "codemirror_mode": {
    "name": "ipython",
    "version": 3
   },
   "file_extension": ".py",
   "mimetype": "text/x-python",
   "name": "python",
   "nbconvert_exporter": "python",
   "pygments_lexer": "ipython3",
   "version": "3.12.2"
  }
 },
 "nbformat": 4,
 "nbformat_minor": 5
}
