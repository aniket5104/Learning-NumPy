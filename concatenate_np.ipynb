{
 "cells": [
  {
   "cell_type": "markdown",
   "id": "09f8e439",
   "metadata": {},
   "source": [
    "# np.concatenate()\n",
    "\n",
    "- Purpose:\n",
    "Combines two or more arrays along an existing axis.\n",
    "\n",
    "- Syntax:\n",
    "np.concatenate((a1, a2, ...), axis=0)\n",
    "\n",
    "- Parameters:\n",
    "  - (a1, a2, ...): Tuple or list of arrays to join.\n",
    "\n",
    "  - axis: Axis along which arrays are joined (default = 0)."
   ]
  },
  {
   "cell_type": "code",
   "execution_count": 1,
   "id": "1c3b426f",
   "metadata": {},
   "outputs": [
    {
     "data": {
      "text/plain": [
       "array([1, 2, 3, 4])"
      ]
     },
     "execution_count": 1,
     "metadata": {},
     "output_type": "execute_result"
    }
   ],
   "source": [
    "import numpy as np\n",
    "\n",
    "#Concatenate 1D arrays:\n",
    "a=np.array([1,2])\n",
    "b= np.array([3,4])\n",
    "np.concatenate((a,b))\n",
    "# Output: [1 2 3 4]"
   ]
  },
  {
   "cell_type": "code",
   "execution_count": null,
   "id": "762b84e0",
   "metadata": {},
   "outputs": [
    {
     "data": {
      "text/plain": [
       "array([[1, 2],\n",
       "       [3, 4]])"
      ]
     },
     "execution_count": 2,
     "metadata": {},
     "output_type": "execute_result"
    }
   ],
   "source": [
    "#concatenating 2D array along rows(axis=0)\n",
    "a = np.array([[1, 2]])\n",
    "b = np.array([[3, 4]])\n",
    "np.concatenate((a, b), axis=0)\n",
    "# Output: [[1 2], [3 4]]"
   ]
  },
  {
   "cell_type": "code",
   "execution_count": null,
   "id": "63c973a3",
   "metadata": {},
   "outputs": [
    {
     "data": {
      "text/plain": [
       "array([[1, 3],\n",
       "       [2, 4]])"
      ]
     },
     "execution_count": 3,
     "metadata": {},
     "output_type": "execute_result"
    }
   ],
   "source": [
    "#concatenating 2D arrays along columns(axis=1)\n",
    "a = np.array([[1], [2]])\n",
    "b = np.array([[3], [4]])\n",
    "np.concatenate((a, b), axis=1)\n",
    "# Output: [[1 3], [2 4]]"
   ]
  }
 ],
 "metadata": {
  "kernelspec": {
   "display_name": ".venv",
   "language": "python",
   "name": "python3"
  },
  "language_info": {
   "codemirror_mode": {
    "name": "ipython",
    "version": 3
   },
   "file_extension": ".py",
   "mimetype": "text/x-python",
   "name": "python",
   "nbconvert_exporter": "python",
   "pygments_lexer": "ipython3",
   "version": "3.12.2"
  }
 },
 "nbformat": 4,
 "nbformat_minor": 5
}
